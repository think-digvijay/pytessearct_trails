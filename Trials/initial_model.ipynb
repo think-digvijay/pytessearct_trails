{
 "metadata": {
  "language_info": {
   "codemirror_mode": {
    "name": "ipython",
    "version": 3
   },
   "file_extension": ".py",
   "mimetype": "text/x-python",
   "name": "python",
   "nbconvert_exporter": "python",
   "pygments_lexer": "ipython3",
   "version": "3.8.3"
  },
  "orig_nbformat": 2,
  "kernelspec": {
   "name": "python383jvsc74a57bd08a49a29282df611f194f04fbf743df9594874419dfbfa30c52a913a1e06f6b3d",
   "display_name": "Python 3.8.3 64-bit ('base': conda)"
  }
 },
 "nbformat": 4,
 "nbformat_minor": 2,
 "cells": [
  {
   "cell_type": "code",
   "execution_count": 1,
   "metadata": {},
   "outputs": [],
   "source": [
    "from PIL import Image\n",
    "import pytesseract\n",
    "import argparse\n",
    "import cv2\n",
    "import os"
   ]
  },
  {
   "cell_type": "code",
   "execution_count": 2,
   "metadata": {},
   "outputs": [],
   "source": [
    "pytesseract.pytesseract.tesseract_cmd = r'C:\\Users\\digvi\\AppData\\Local\\Programs\\Tesseract-OCR\\tesseract.exe'"
   ]
  },
  {
   "cell_type": "code",
   "execution_count": 3,
   "metadata": {},
   "outputs": [],
   "source": [
    "def thresh_pre(file_name):\n",
    "\n",
    "    # convert to gray scale\n",
    "    image = cv2.imread(file_name)\n",
    "    gray = cv2.cvtColor(image, cv2.COLOR_BGR2GRAY)\n",
    "\n",
    "    # apply thresholding\n",
    "    gray = cv2.threshold(gray, 0, 255, cv2.THRESH_BINARY | cv2.THRESH_OTSU)[1]\n",
    "\n",
    "    file_name = 'threshold_image.png'\n",
    "\n",
    "    # write image to output\n",
    "    cv2.imwrite(file_name, gray)\n",
    "\n",
    "    return file_name"
   ]
  },
  {
   "cell_type": "code",
   "execution_count": 18,
   "metadata": {},
   "outputs": [],
   "source": [
    "def blur_pre(file_name):\n",
    "    \n",
    "    image = cv2.imread(file_name)\n",
    "    blur_img = cv2.cvtColor(image, cv2.COLOR_BGR2GRAY)\n",
    "\n",
    "    blur_img = cv2.medianBlur(blur_img, 3)\n",
    "\n",
    "    file_name = 'blur_image.png'\n",
    "\n",
    "    cv2.imwrite(file_name, blur_img)\n",
    "\n",
    "    return file_name"
   ]
  },
  {
   "cell_type": "code",
   "execution_count": 5,
   "metadata": {},
   "outputs": [],
   "source": [
    "def detect_chars(image):\n",
    "    text = pytesseract.image_to_string(image)\n",
    "    print(text)\n",
    "    return text"
   ]
  },
  {
   "cell_type": "code",
   "execution_count": 8,
   "metadata": {},
   "outputs": [],
   "source": [
    "file_name_1 = 'example_01.png'\n",
    "file_name_2 = 'example_02.png'"
   ]
  },
  {
   "cell_type": "code",
   "execution_count": 10,
   "metadata": {},
   "outputs": [
    {
     "output_type": "stream",
     "name": "stdout",
     "text": [
      "Noisyimage\nto test\nTesseract OCR\n\f\n"
     ]
    }
   ],
   "source": [
    "# Image 1 without preprocessing\n",
    "\n",
    "image = Image.open(file_name_1)\n",
    "text = detect_chars(image)\n",
    "\n",
    "# there is no space in between the two words.   "
   ]
  },
  {
   "cell_type": "code",
   "execution_count": 14,
   "metadata": {},
   "outputs": [
    {
     "output_type": "stream",
     "name": "stdout",
     "text": [
      "Noisy image\nto test\nTesseract OCR\n\f\n"
     ]
    }
   ],
   "source": [
    "# Image 1 with preprocessing\n",
    "\n",
    "file_name = thresh_pre(file_name_1)\n",
    "processed_image = Image.open(file_name)\n",
    "text = detect_chars(processed_image)\n",
    "\n",
    "# accurately detected the space between the words"
   ]
  },
  {
   "cell_type": "code",
   "execution_count": 15,
   "metadata": {},
   "outputs": [
    {
     "output_type": "stream",
     "name": "stdout",
     "text": [
      "_ Tesseract Will\nFail With Noisy\n_ Backgrounds —\n\f\n"
     ]
    }
   ],
   "source": [
    "# Image 2 without preprocessing\n",
    "\n",
    "image = Image.open(file_name_2)\n",
    "text = detect_chars(image)\n",
    "\n",
    "# Inaccurate"
   ]
  },
  {
   "cell_type": "code",
   "execution_count": 19,
   "metadata": {},
   "outputs": [
    {
     "output_type": "stream",
     "name": "stdout",
     "text": [
      "Tesseract Will\nFail With Noisy\nBackgrounds\n\f\n"
     ]
    }
   ],
   "source": [
    "# Image 2 with preprocessing\n",
    "\n",
    "file_name = blur_pre(file_name_2)\n",
    "processed_image = Image.open(file_name)\n",
    "text = detect_chars(processed_image)"
   ]
  },
  {
   "cell_type": "code",
   "execution_count": 21,
   "metadata": {},
   "outputs": [
    {
     "output_type": "stream",
     "name": "stdout",
     "text": [
      "2 HHH\n\f\n"
     ]
    }
   ],
   "source": [
    "# USING IMAGE ENHANCER\n",
    "\n",
    "from PIL import Image, ImageEnhance, ImageFilter\n",
    "\n",
    "im = Image.open(\"temp.jpg\") \n",
    "im = im.filter(ImageFilter.MedianFilter())\n",
    "enhancer = ImageEnhance.Contrast(im)\n",
    "im = enhancer.enhance(2)\n",
    "im = im.convert('1')\n",
    "im.save('temp2.jpg')\n",
    "text = pytesseract.image_to_string(Image.open('temp2.jpg'))\n",
    "print(text)"
   ]
  },
  {
   "cell_type": "code",
   "execution_count": null,
   "metadata": {},
   "outputs": [],
   "source": []
  }
 ]
}