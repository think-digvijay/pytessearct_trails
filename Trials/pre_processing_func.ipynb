{
 "metadata": {
  "language_info": {
   "codemirror_mode": {
    "name": "ipython",
    "version": 3
   },
   "file_extension": ".py",
   "mimetype": "text/x-python",
   "name": "python",
   "nbconvert_exporter": "python",
   "pygments_lexer": "ipython3",
   "version": "3.8.3"
  },
  "orig_nbformat": 2,
  "kernelspec": {
   "name": "python383jvsc74a57bd08a49a29282df611f194f04fbf743df9594874419dfbfa30c52a913a1e06f6b3d",
   "display_name": "Python 3.8.3 64-bit ('base': conda)"
  }
 },
 "nbformat": 4,
 "nbformat_minor": 2,
 "cells": [
  {
   "cell_type": "code",
   "execution_count": 22,
   "metadata": {},
   "outputs": [],
   "source": [
    "from PIL import Image\n",
    "import pytesseract\n",
    "import argparse\n",
    "import cv2\n",
    "import os"
   ]
  },
  {
   "cell_type": "code",
   "execution_count": 23,
   "metadata": {},
   "outputs": [],
   "source": [
    "pytesseract.pytesseract.tesseract_cmd = r'C:\\Users\\digvi\\AppData\\Local\\Programs\\Tesseract-OCR\\tesseract.exe'"
   ]
  },
  {
   "cell_type": "code",
   "execution_count": 32,
   "metadata": {},
   "outputs": [],
   "source": [
    "def pre_process(image, file_name):\n",
    "\n",
    "    # convert to gray scale\n",
    "    image = cv2.imread(file_name)\n",
    "    gray = cv2.cvtColor(image, cv2.COLOR_BGR2GRAY)\n",
    "\n",
    "    # apply threholding\n",
    "    gray = cv2.threshold(gray, 0, 255, cv2.THRESH_BINARY | cv2.THRESH_OTSU)[1]\n",
    "\n",
    "    file_name = 'pre.png'\n",
    "    # write image to output\n",
    "    cv2.imwrite(file_name, gray)\n",
    "\n",
    "    return file_name"
   ]
  },
  {
   "cell_type": "code",
   "execution_count": 25,
   "metadata": {},
   "outputs": [],
   "source": [
    "def detect_chars(image):\n",
    "    text = pytesseract.image_to_string(image)\n",
    "    return text"
   ]
  },
  {
   "cell_type": "code",
   "execution_count": 26,
   "metadata": {},
   "outputs": [
    {
     "output_type": "stream",
     "name": "stdout",
     "text": [
      "Noisyimage\nto test\nTesseract OCR\n\f\n"
     ]
    }
   ],
   "source": [
    "# without preprocessing\n",
    "\n",
    "image = Image.open('example_01.png')\n",
    "text = detect_chars(image)\n",
    "print(text)\n",
    "\n",
    "# there is no space in between the two words.   "
   ]
  },
  {
   "cell_type": "code",
   "execution_count": 27,
   "metadata": {},
   "outputs": [
    {
     "output_type": "stream",
     "name": "stdout",
     "text": [
      "Noisy image\nto test\nTesseract OCR\n\f\n"
     ]
    }
   ],
   "source": [
    "# with preprocessing\n",
    "\n",
    "image = Image.open('example_02.png')\n",
    "file_name = pre_process(image)\n",
    "processed_image = Image.open(file_name)\n",
    "text = detect_chars(processed_image)\n",
    "print(text)\n",
    "\n",
    "# accurately detected the space between the words"
   ]
  },
  {
   "cell_type": "code",
   "execution_count": 28,
   "metadata": {},
   "outputs": [
    {
     "output_type": "stream",
     "name": "stdout",
     "text": [
      "_ Tesseract Will\nFail With Noisy\n_ Backgrounds —\n\f\n"
     ]
    }
   ],
   "source": [
    "# on noise image without preprocessing\n",
    "image = Image.open('example_02.png')\n",
    "text = detect_chars(image)\n",
    "print(text)\n",
    "\n",
    "# redundant underscorse"
   ]
  },
  {
   "cell_type": "code",
   "execution_count": 33,
   "metadata": {},
   "outputs": [
    {
     "output_type": "stream",
     "name": "stdout",
     "text": [
      "~ Tesseract Will\nFail With Noisy\n_ Backgrounds _\n\f\n"
     ]
    }
   ],
   "source": [
    "# on noise image without preprocessing\n",
    "\n",
    "file_ = 'example_02.png'\n",
    "image_1 = Image.open(file_)\n",
    "file_name_1 = pre_process(image_1, file_)\n",
    "processed_image_1 = Image.open(file_name_1)\n",
    "text = detect_chars(processed_image_1)\n",
    "print(text)\n",
    "\n"
   ]
  },
  {
   "cell_type": "code",
   "execution_count": null,
   "metadata": {},
   "outputs": [],
   "source": []
  }
 ]
}