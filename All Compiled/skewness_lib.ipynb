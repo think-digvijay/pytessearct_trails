{
 "metadata": {
  "language_info": {
   "codemirror_mode": {
    "name": "ipython",
    "version": 3
   },
   "file_extension": ".py",
   "mimetype": "text/x-python",
   "name": "python",
   "nbconvert_exporter": "python",
   "pygments_lexer": "ipython3",
   "version": "3.8.3"
  },
  "orig_nbformat": 2,
  "kernelspec": {
   "name": "python383jvsc74a57bd08a49a29282df611f194f04fbf743df9594874419dfbfa30c52a913a1e06f6b3d",
   "display_name": "Python 3.8.3 64-bit (conda)"
  }
 },
 "nbformat": 4,
 "nbformat_minor": 2,
 "cells": [
  {
   "cell_type": "code",
   "execution_count": 1,
   "metadata": {},
   "outputs": [],
   "source": [
    "import numpy as np\n",
    "from skimage import io\n",
    "from skimage.color import rgb2gray\n",
    "from skimage.transform import rotate\n",
    "\n",
    "from deskew import determine_skew"
   ]
  },
  {
   "cell_type": "code",
   "execution_count": 2,
   "metadata": {},
   "outputs": [],
   "source": [
    "# image = io.imread('test_skew.png')\n",
    "# grayscale = rgb2gray(image)\n",
    "# angle = determine_skew(grayscale)\n",
    "# rotated = rotate(image, angle, resize=True) * 255\n",
    "# io.imsave('output.png', rotated.astype(np.uint8))"
   ]
  },
  {
   "cell_type": "code",
   "execution_count": 3,
   "metadata": {},
   "outputs": [],
   "source": [
    "# print(angle)"
   ]
  },
  {
   "cell_type": "code",
   "execution_count": 7,
   "metadata": {},
   "outputs": [],
   "source": [
    "# functional:\n",
    "\n",
    "def skewness_correction(file_name):\n",
    "    \n",
    "    image = io.imread(file_name)\n",
    "    \n",
    "    #convert to grayscale\n",
    "    grayscale = rgb2gray(image)\n",
    "\n",
    "    #determing rotation angle\n",
    "    angle = determine_skew(grayscale)\n",
    "\n",
    "    #rotated image matrix\n",
    "    rotated = rotate(image, angle, resize=True) * 255\n",
    "\n",
    "    #return the image\n",
    "    return rotated\n",
    "\n"
   ]
  },
  {
   "cell_type": "code",
   "execution_count": 8,
   "metadata": {},
   "outputs": [],
   "source": [
    "file_path = r'images\\example.png'\n",
    "\n",
    "img1 = skewness_correction(file_path)\n",
    "\n",
    "new_file_path = 'corrected_image.png'\n",
    "\n",
    "io.imsave(new_file_path, img1.astype(np.uint8))"
   ]
  },
  {
   "cell_type": "code",
   "execution_count": 12,
   "metadata": {},
   "outputs": [],
   "source": [
    "# pytessearct \n",
    "from PIL import Image\n",
    "import pytesseract\n",
    "pytesseract.pytesseract.tesseract_cmd = r'C:\\Users\\digvi\\AppData\\Local\\Programs\\Tesseract-OCR\\tesseract.exe'\n"
   ]
  },
  {
   "cell_type": "code",
   "execution_count": 13,
   "metadata": {},
   "outputs": [],
   "source": [
    "def detect_chars(image):\n",
    "    text = pytesseract.image_to_string(image)\n",
    "    print(text)\n",
    "    return text"
   ]
  },
  {
   "cell_type": "code",
   "execution_count": 14,
   "metadata": {},
   "outputs": [
    {
     "output_type": "stream",
     "name": "stdout",
     "text": [
      "Lorem ipsum dolor sit amet, consectetur adipisicing elit, sed\ndo eiusmod tempor incididunt ut labore et dolore magna aliqua.\nUt enim ad minim veniam, quis nostrud exercitation ullamco\n\nlaboris nisi ut aliquip ex ea commodo consequat.\n\nDuis aute irure dolor in reprehenderit in voluptate velit esse\ncillum dolore eu fugiat nulla pariatur.\n\nExcepteur sint occaecat cupidatat non proident, sunt in culpa\nqui officia deserunt mollit anim id est laborum.\n\n \n\f\n"
     ]
    }
   ],
   "source": [
    "file_name_1 = new_file_path\n",
    "\n",
    "image = Image.open(file_name_1)\n",
    "text = detect_chars(image)"
   ]
  },
  {
   "cell_type": "code",
   "execution_count": null,
   "metadata": {},
   "outputs": [],
   "source": []
  }
 ]
}