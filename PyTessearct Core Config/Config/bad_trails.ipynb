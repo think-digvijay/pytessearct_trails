{
 "metadata": {
  "language_info": {
   "codemirror_mode": {
    "name": "ipython",
    "version": 3
   },
   "file_extension": ".py",
   "mimetype": "text/x-python",
   "name": "python",
   "nbconvert_exporter": "python",
   "pygments_lexer": "ipython3",
   "version": "3.8.3"
  },
  "orig_nbformat": 2,
  "kernelspec": {
   "name": "python383jvsc74a57bd08a49a29282df611f194f04fbf743df9594874419dfbfa30c52a913a1e06f6b3d",
   "display_name": "Python 3.8.3 64-bit (conda)"
  }
 },
 "nbformat": 4,
 "nbformat_minor": 2,
 "cells": [
  {
   "cell_type": "code",
   "execution_count": 1,
   "metadata": {},
   "outputs": [],
   "source": [
    "from PIL import Image\n",
    "import numpy as np \n",
    "import pytesseract\n",
    "import argparse\n",
    "import cv2\n",
    "import os\n"
   ]
  },
  {
   "cell_type": "code",
   "execution_count": 2,
   "metadata": {},
   "outputs": [],
   "source": [
    "pytesseract.pytesseract.tesseract_cmd = r'C:\\Users\\digvi\\AppData\\Local\\Programs\\Tesseract-OCR\\tesseract.exe'"
   ]
  },
  {
   "cell_type": "code",
   "execution_count": 3,
   "metadata": {},
   "outputs": [],
   "source": [
    "file_path = r'C:\\Users\\digvi\\Desktop\\ChiStats\\PyTesseract\\PyTessearct Core Config\\Code\\Bad_Page_1.jpg'"
   ]
  },
  {
   "cell_type": "code",
   "execution_count": 4,
   "metadata": {},
   "outputs": [],
   "source": [
    "# open image\n",
    "\n",
    "img = Image.open(file_path)\n",
    "# img"
   ]
  },
  {
   "cell_type": "code",
   "execution_count": 5,
   "metadata": {},
   "outputs": [
    {
     "output_type": "stream",
     "name": "stdout",
     "text": [
      " \n\nMIRC Global\n\nCustomer Order No:\n4403503326\n\nCustomer Service Rep:\nMELISSA MCDOWELL\n\nCustomer No:\n26080-0137\n\nSold To:\nEQUISTAR CHEMICALS LP\n\n0843089989\n\nREL/REQ No: Ordered By:\n\nPhone:\n(713)230-2771\n\nServicing Branch:\n172- LAPORTE TX\n\nAP.INVOICES_ NA@LYONDELLBASELL.COM\n\nInvoice No: 0843089989\nOrder No: 0843089\nPage: 1 of 2\nInvoice Date:\n\n04/18/2019\n\nDate Shipped:\n04/12/2019\n\nTerms:\nNET 30 DAYS\n\nShipped Via:\nMRC TRUCK\n\nShip To:\n\nLYONDELL BASELL ACETYLS\n1226 MILLER CUT-OFF RD\n\n \n\nAA/VAM WHSE GATE 8\nATTN: MARVIN CALDERON\nLA PORTE TX 77571\n\nPO BOX 3448\nHOUSTON TX 77253-3448\n\nPLEASE NOTE OUR NEW REMIT TO ADDRESS.\nTHANK YOU\n\nORIGINAL\n\nMTR'S REQUIRED\n\n4 150# DURCO G4B-11C660TOM11AKZ6Q-CM2683 | 4606.34 | 4606.34 4606.34\nDC3 PLUG,CD4M TOP CAP,PTFE SLEEVE,\nCPO LINE: 00001\n\nSTD WRENCH,B840 TOP CAP/ADJUSTER\nFASTENER,DRILLED & TAPPED FLG,KALREZ\nO-RINGS, FIRESAFE,NO BOTTOM VENT,PMI REQ.\n\nV-N14200\nPO:4403503326\nLINE:1\n\n2019 TADB:110321\n\n:  MTR'S REQUIRED\ni _ STAINLESS STEEL VALVE TAG REQUIRED\n: 4 150# DURCO G4B-11C660T0M11AKZ6Q-CM2683 i 4606.34 4606.34 4606.34\nDC3 PLUG,CD4M TOP CAP,PTFE SLEEVE, ;\nCPO LINE: 00020\nSTD WRENCH,B840 TOP CAP/ADJUSTER\n\nIf this order was placed under an existing written contract, the terms of such existing contract shall apply. Otherwise, this order is subject to and governed by the MRC Global (US) Inc’s General Terms and Conditions of Sale \"Terms and\nConditions\" (which can be found on our website at www.mrcglobal.comand are also available upon request), which Terms and Conditions of Sale are hereby incorporated by reference.\n\n \n\nThese items are controlled by the U.S. gove rmment and authorized for export only to the country of ultimate destination for use by the ultimate consignee or end-user(s ) herein identified. They may not be resold, transferred, or otherwise disposed of, to any other country or to any person other than the authorized\nultimate consignee or end-user(s), either in their original form or after being incorponted into other items, without first obtaini ng approval from the U.S. government or as otherwise authorized by U.S. law and regulations.\n\nORIGINAL INVOICE\n\nInquiries to HEATHER R MITCHUM\n713-577-3028\n\nWe Make Energy Flow\"\n\n843089 MRC Global (US) Inc.\nA/P Rec’d Invoice 4/18/2019\n\f\n"
     ]
    }
   ],
   "source": [
    "# 1. Without any configurations\n",
    "text_NoCon = pytesseract.image_to_string(img)\n",
    "print(text_NoCon)"
   ]
  },
  {
   "cell_type": "code",
   "execution_count": 6,
   "metadata": {},
   "outputs": [
    {
     "output_type": "stream",
     "name": "stdout",
     "text": [
      " \n\nMIRC Global\n\nCustomer Order No:\n4403503326\n\nCustomer Service Rep:\nMELISSA MCDOWELL\n\nCustomer No:\n26080-0137\n\nSold To:\nEQUISTAR CHEMICALS LP\n\n0843089989\n\nREL/REQ No: Ordered By:\n\nPhone:\n(713)230-2771\n\nServicing Branch:\n172- LAPORTE TX\n\nAP.INVOICES_ NA@LYONDELLBASELL.COM\n\nInvoice No: 0843089989\nOrder No: 0843089\nPage: 1 of 2\nInvoice Date:\n\n04/18/2019\n\nDate Shipped:\n04/12/2019\n\nTerms:\nNET 30 DAYS\n\nShipped Via:\nMRC TRUCK\n\nShip To:\n\nLYONDELL BASELL ACETYLS\n1226 MILLER CUT-OFF RD\n\n \n\nAA/VAM WHSE GATE 8\nATTN: MARVIN CALDERON\nLA PORTE TX 77571\n\nPO BOX 3448\nHOUSTON TX 77253-3448\n\nPLEASE NOTE OUR NEW REMIT TO ADDRESS.\nTHANK YOU\n\nORIGINAL\n\nMTR'S REQUIRED\n\n4 150# DURCO G4B-11C660TOM11AKZ6Q-CM2683 | 4606.34 | 4606.34 4606.34\nDC3 PLUG,CD4M TOP CAP,PTFE SLEEVE,\nCPO LINE: 00001\n\nSTD WRENCH,B840 TOP CAP/ADJUSTER\nFASTENER,DRILLED & TAPPED FLG,KALREZ\nO-RINGS, FIRESAFE,NO BOTTOM VENT,PMI REQ.\n\nV-N14200\nPO:4403503326\nLINE:1\n\n2019 TADB:110321\n\n:  MTR'S REQUIRED\ni _ STAINLESS STEEL VALVE TAG REQUIRED\n: 4 150# DURCO G4B-11C660T0M11AKZ6Q-CM2683 i 4606.34 4606.34 4606.34\nDC3 PLUG,CD4M TOP CAP,PTFE SLEEVE, ;\nCPO LINE: 00020\nSTD WRENCH,B840 TOP CAP/ADJUSTER\n\nIf this order was placed under an existing written contract, the terms of such existing contract shall apply. Otherwise, this order is subject to and governed by the MRC Global (US) Inc’s General Terms and Conditions of Sale \"Terms and\nConditions\" (which can be found on our website at www.mrcglobal.comand are also available upon request), which Terms and Conditions of Sale are hereby incorporated by reference.\n\n \n\nThese items are controlled by the U.S. gove rmment and authorized for export only to the country of ultimate destination for use by the ultimate consignee or end-user(s ) herein identified. They may not be resold, transferred, or otherwise disposed of, to any other country or to any person other than the authorized\nultimate consignee or end-user(s), either in their original form or after being incorponted into other items, without first obtaini ng approval from the U.S. government or as otherwise authorized by U.S. law and regulations.\n\nORIGINAL INVOICE\n\nInquiries to HEATHER R MITCHUM\n713-577-3028\n\nWe Make Energy Flow\"\n\n843089 MRC Global (US) Inc.\nA/P Rec’d Invoice 4/18/2019\n\f\n"
     ]
    }
   ],
   "source": [
    "# 2. With PSM and OEM\n",
    "\n",
    "text_PO = pytesseract.image_to_string(img, lang='eng', config='--psm 1 --oem 3')\n",
    "print(text_PO)"
   ]
  },
  {
   "cell_type": "code",
   "execution_count": 7,
   "metadata": {},
   "outputs": [],
   "source": [
    "# 3. with basic preprocessing for oem configs\n",
    "\n",
    "image = cv2.imread(file_path)\n",
    "kernel_vertical = cv2.getStructuringElement(cv2.MORPH_RECT, (1,50))\n",
    "temp1 = 255 - cv2.morphologyEx(image, cv2.MORPH_CLOSE, kernel_vertical)\n",
    "horizontal_kernel = cv2.getStructuringElement(cv2.MORPH_RECT, (50,1))\n",
    "temp2 = 255 - cv2.morphologyEx(image, cv2.MORPH_CLOSE, horizontal_kernel)\n",
    "temp3 = cv2.add(temp1, temp2)\n",
    "result = cv2.add(temp3, image)"
   ]
  },
  {
   "cell_type": "code",
   "execution_count": 8,
   "metadata": {},
   "outputs": [
    {
     "output_type": "stream",
     "name": "stdout",
     "text": [
      " \n\n \n\nInvoice No: 0843089989\n\nAd Ti tebe a ms ||\nWo ce SE fo , Order No: 0843089\n; aS y O82.3089989 Page: 1 of 2\nCustomer Order No: REL/REQ No: Ordered By: Date Shipped: Invoice Date:\n4403503326 04/12/2019 04/18/2019\nCustomer Service Rep: Phone: Terms:\nMELISSA MCDOWELL (713)230-2771 NET 30 DAYS\nCustomer No: Servicing Branch: Shipped Via:\n26080-0137 172- LAPORTE TX MRC TRUCK\nSold To: Ship To:\nEQUISTAR CHEMICALS LP AP.INVOICES_NA@LYONDELLBASELL.COM LYONDELL BASELL ACETYLS\nPO BOX 3448 1226 MILLER CUT-OFF RD\nHOUSTON TX 77253-3448 AA/VAM WHSE GATE 8\n\nATTN: MARVIN CALDERON\nLA PORTE TX 77571\n\nPLEASE NOTE OUR NEW REMIT TO ADDRESS.\nTHANK YOU\nORIGINAL\n\nMTR'S REQUIRED\nSTAINLESS STEEL VALVE TAG REQUIRED\n\n \n\n1 : 6925XXXX\n\nsisbussasicassasaeianeseis easiness fbseaassaanisuaassbiaanasceaevesesensetsevassasiqueal\n\n20 6925XXXX\n\n \n\n4 150# DURCO G4B-11C660TOM11AKZ6Q-CM2683 1 EA 4606.34 4606.34 4606.34\nDC3 PLUG,CD4M TOP CAP,PTFE SLEEVE,\nCPO LINE: 00001\nSTD WRENCH,B840 TOP CAP/ADJUSTER\nFASTENER,DRILLED & TAPPED FLG,KALREZ\nO-RINGS,FIRESAFE,NO BOTTOM VENT,PMI REQ.\nSS TAG:\nV-N14200\nPO:4403503326\nLINE:1\n2019 TADB:110321\nMTR'S REQUIRED\n_USTAINLESS STEEL VALVE TAG REQUIRED fifa\n4606.34 4606.34 4606.34\n\n \n\n4 150# DURCO G4B-11C660TOM11AKZ6Q-CM2683 1 i EBA\nDC3 PLUG,CD4M TOP CAP,PTFE SLEEVE,\n\nCPO LINE: 00020\n\nSTD WRENCH,B840 TOP CAP/ADJUSTER\n\nIf this order was placed under an existing written contract, the terms of such existing contract shall apply. Otherwise, this order is subject to and governed by the MRC Global (US) Inc's General Terms and Conditions of Sale ''Terms and\n\nConditions\" (which can be found on our website at ww\n\n \n\nThese items are controlled by the U.S. gove rmment and authorized for export only to the country of ultimate destination for use by the ultimate consignee or end-user(s ) herein identified. They may not be resold, transferred, or otherwise disposed of, to any other country or to any person other than the authorized\nultimate consignee or end-user(s), either in their original form or after being incorponted into other items, without first obtaini ng approval from the U.S. government or as otherwise authorized by U.S. law and regulations.\n\nORIGINAL INVOICE\n\nInquiries to HEATHER R MITCHUM\n713-577-3028\n\n  \n\nWe Vake Energy = ow\"\n\n843089 MRC Global (US) Inc.\n\nA/P Rec’d Invoice 4/18/2019\n\f\n"
     ]
    }
   ],
   "source": [
    "text_Pre_PO = pytesseract.image_to_string(result, lang='eng',config='--oem 1')\n",
    "print(text_Pre_PO)"
   ]
  },
  {
   "cell_type": "code",
   "execution_count": null,
   "metadata": {},
   "outputs": [],
   "source": [
    "# Morphological preprocessing is not helping in both the cases."
   ]
  }
 ]
}