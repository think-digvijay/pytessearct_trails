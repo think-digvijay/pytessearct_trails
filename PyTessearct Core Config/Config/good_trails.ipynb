{
 "metadata": {
  "language_info": {
   "codemirror_mode": {
    "name": "ipython",
    "version": 3
   },
   "file_extension": ".py",
   "mimetype": "text/x-python",
   "name": "python",
   "nbconvert_exporter": "python",
   "pygments_lexer": "ipython3",
   "version": "3.8.3"
  },
  "orig_nbformat": 2,
  "kernelspec": {
   "name": "python383jvsc74a57bd08a49a29282df611f194f04fbf743df9594874419dfbfa30c52a913a1e06f6b3d",
   "display_name": "Python 3.8.3 64-bit (conda)"
  }
 },
 "nbformat": 4,
 "nbformat_minor": 2,
 "cells": [
  {
   "cell_type": "code",
   "execution_count": 1,
   "metadata": {},
   "outputs": [],
   "source": [
    "from PIL import Image\n",
    "import numpy as np \n",
    "import pytesseract\n",
    "import argparse\n",
    "import cv2\n",
    "import os\n"
   ]
  },
  {
   "cell_type": "code",
   "execution_count": 2,
   "metadata": {},
   "outputs": [],
   "source": [
    "pytesseract.pytesseract.tesseract_cmd = r'C:\\Users\\digvi\\AppData\\Local\\Programs\\Tesseract-OCR\\tesseract.exe'"
   ]
  },
  {
   "cell_type": "code",
   "execution_count": 3,
   "metadata": {},
   "outputs": [],
   "source": [
    "file_path = r'C:\\Users\\digvi\\Desktop\\ChiStats\\PyTesseract\\PyTessearct Core Config\\Code\\page_1.jpg'"
   ]
  },
  {
   "cell_type": "code",
   "execution_count": 6,
   "metadata": {},
   "outputs": [],
   "source": [
    "# open image\n",
    "\n",
    "img = Image.open(file_path)\n",
    "# img"
   ]
  },
  {
   "cell_type": "code",
   "execution_count": 8,
   "metadata": {},
   "outputs": [
    {
     "output_type": "stream",
     "name": "stdout",
     "text": [
      "ECL\n\nInvoice\n\nInvoice Number\n611526\n\n \n\n \n\n \n\n \n\n \n\n \n\n \n\n \n\n \n\n \n\nGulf Coast Invoice Date\nLimestone, Inc. Jen 22, 2010\nPO Box 66 Page:\nSeabrook, TX 77586 :\nMain -— 281-474-4124\nFax — 281-929-0674\nSold To: Ship To\nHouston Refining LP Lyondell Citgo Refining LP\nPO Box 3448 12000 Lawndale / Gate 1\nHouston, TX 77253-3448 KM 536-F\nHouston, TX\nCen3\nCustomer ID Customer PO Payment Terms\nHOUREF 4403514751 Net 30 Days\nSales Order Number Shipping Method Ship Date | Due Date\n175241 R1 1/22/19 | 2/21/19\nQuantity | Item Description Unit Price Net\n14.90V 3/8\" LIME3/8\" Limestone 47.97 714.75\nTicket # 873701\nAll Purchase Orders should be emailed to: Subtotal 714.75\nSalesPO @gcli.com Sales Tax\nTotal Invoice Amount 714.75\n_ Payment/Credit Appliec\nInvoicing Support: TOTAL 714.75\n\nDiane. Thornton @ gcli.com - 281-474-4124 x 121\nMiranda.Frazier @ gcli.com - 281-474-4124 x 116\n\nA/P Rec’d Invoice 1/24/2019\n\n \n\f\n"
     ]
    }
   ],
   "source": [
    "# 1. Without any configurations\n",
    "text_NoCon = pytesseract.image_to_string(img)\n",
    "print(text_NoCon)"
   ]
  },
  {
   "cell_type": "code",
   "execution_count": 40,
   "metadata": {},
   "outputs": [
    {
     "output_type": "stream",
     "name": "stdout",
     "text": [
      "ECL\n\nInvoice\n\nInvoice Number\n611526\n\n \n\n \n\n \n\n \n\n \n\n \n\n \n\n \n\n \n\n \n\nGulf Coast Invoice Date\nLimestone, Inc. Jen 22, 2010\nPO Box 66 Page:\nSeabrook, TX 77586 :\nMain -— 281-474-4124\nFax — 281-929-0674\nSold To: Ship To\nHouston Refining LP Lyondell Citgo Refining LP\nPO Box 3448 12000 Lawndale / Gate 1\nHouston, TX 77253-3448 KM 536-F\nHouston, TX\nCen3\nCustomer ID Customer PO Payment Terms\nHOUREF 4403514751 Net 30 Days\nSales Order Number Shipping Method Ship Date | Due Date\n175241 R1 1/22/19 | 2/21/19\nQuantity | Item Description Unit Price Net\n14.90V 3/8\" LIME3/8\" Limestone 47.97 714.75\nTicket # 873701\nAll Purchase Orders should be emailed to: Subtotal 714.75\nSalesPO @gcli.com Sales Tax\nTotal Invoice Amount 714.75\n_ Payment/Credit Appliec\nInvoicing Support: TOTAL 714.75\n\nDiane. Thornton @ gcli.com - 281-474-4124 x 121\nMiranda.Frazier @ gcli.com - 281-474-4124 x 116\n\nA/P Rec’d Invoice 1/24/2019\n\n \n\f\n"
     ]
    }
   ],
   "source": [
    "# 2. With PSM and OEM\n",
    "\n",
    "text_PO = pytesseract.image_to_string(img, lang='eng', config='--psm 1 --oem 3')\n",
    "print(text_PO)"
   ]
  },
  {
   "cell_type": "code",
   "execution_count": 42,
   "metadata": {},
   "outputs": [],
   "source": [
    "# 3. with basic preprocessing for oem configs\n",
    "\n",
    "image = cv2.imread(file_path)\n",
    "kernel_vertical = cv2.getStructuringElement(cv2.MORPH_RECT, (1,50))\n",
    "temp1 = 255 - cv2.morphologyEx(image, cv2.MORPH_CLOSE, kernel_vertical)\n",
    "horizontal_kernel = cv2.getStructuringElement(cv2.MORPH_RECT, (50,1))\n",
    "temp2 = 255 - cv2.morphologyEx(image, cv2.MORPH_CLOSE, horizontal_kernel)\n",
    "temp3 = cv2.add(temp1, temp2)\n",
    "result = cv2.add(temp3, image)"
   ]
  },
  {
   "cell_type": "code",
   "execution_count": 48,
   "metadata": {},
   "outputs": [
    {
     "output_type": "stream",
     "name": "stdout",
     "text": [
      "A\nA >\na a\ni\n\noS\n\nGulf Coast\n\nLimestone, Inc.\nPO Box 66\nSeabrook, TX 77586\nMain —- 281-474-4124\nFax -— 281-929-0674\n\nSold To:\nHouston Refining LP\nPO Box 3448\nHouston, TX 77253-3448\n\nCustomer ID Customer PO\nHOUREF 4403514751\nSalés Order Number ~ Shipping Method\n175241 R1\nQuantity | Item Description\n\n14.90V 3/8\" LIME3/8\" Limestone\nTicket # 873701\n\nA urease Orcers S10UC 9e emai ec “0:\n\nSa es?O@cci.com\n\n‘nvoicing Sud9or::\n\nJiane. rorn:on @¢c i.com - 28° -4:74.-2.\" 22. x “2°\nViranca. Frazier @ gcli.com - 287-474-424 x 176\n\nA/P Ree’d Invoice 1/24/2019\n\n“Invoice\n\nInvoice Number\n611526\n\nInvoice Date\nJan 22, 2019\n\nPage:\n1\nShip To\nLyondell Citgo Refining LP\n12000 Lawndale / Gate 1\nKM 536-F\nHouston, TX\nCen3\nPayment Terms\n7 Net 30 Days.\nShip Date Due Date\n1/22/19 2/21/19\nUnit Price Net\n47.97 714.75\nSubtotal 714.75\nSales Tax\nTotal Invoice Amouni 714.75\nPayment/Credit Appliec\nTOTAL 714.75\n\f\n"
     ]
    }
   ],
   "source": [
    "text_Pre_PO = pytesseract.image_to_string(result, lang='eng',config='--oem 1')\n",
    "print(text_Pre_PO)"
   ]
  },
  {
   "cell_type": "code",
   "execution_count": null,
   "metadata": {},
   "outputs": [],
   "source": []
  }
 ]
}