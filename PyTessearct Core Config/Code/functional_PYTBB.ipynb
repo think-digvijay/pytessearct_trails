{
 "metadata": {
  "language_info": {
   "codemirror_mode": {
    "name": "ipython",
    "version": 3
   },
   "file_extension": ".py",
   "mimetype": "text/x-python",
   "name": "python",
   "nbconvert_exporter": "python",
   "pygments_lexer": "ipython3",
   "version": "3.8.3"
  },
  "orig_nbformat": 2,
  "kernelspec": {
   "name": "python383jvsc74a57bd08a49a29282df611f194f04fbf743df9594874419dfbfa30c52a913a1e06f6b3d",
   "display_name": "Python 3.8.3 64-bit (conda)"
  }
 },
 "nbformat": 4,
 "nbformat_minor": 2,
 "cells": [
  {
   "cell_type": "code",
   "execution_count": 54,
   "metadata": {},
   "outputs": [],
   "source": [
    "from PIL import Image\n",
    "import numpy as np \n",
    "import pytesseract\n",
    "import argparse\n",
    "import cv2\n",
    "import os\n",
    "\n",
    "from pdf2image import convert_from_path"
   ]
  },
  {
   "cell_type": "code",
   "execution_count": 2,
   "metadata": {},
   "outputs": [],
   "source": [
    "pytesseract.pytesseract.tesseract_cmd = r'C:\\Users\\digvi\\AppData\\Local\\Programs\\Tesseract-OCR\\tesseract.exe'\n",
    "\n",
    "poppler_path = r\"C:\\Program Files\\poppler-0.68.0\\bin\""
   ]
  },
  {
   "cell_type": "code",
   "execution_count": 46,
   "metadata": {},
   "outputs": [],
   "source": [
    "def save_img_files_form_pdf(pages):\n",
    "    i = 1\n",
    "    for page in pages:\n",
    "        image_name = \"Page_\" + str(i) + \".jpg\"  \n",
    "        page.save(image_name, \"JPEG\")\n",
    "        i = i+1    "
   ]
  },
  {
   "cell_type": "code",
   "execution_count": 60,
   "metadata": {},
   "outputs": [],
   "source": [
    "def save_img_bounding_box(img, page_no):\n",
    "    image_name = \"BB_Page_\" + str(page_no+1) + \".jpg\"  \n",
    "    \n",
    "    cv2.imwrite(image_name, img)"
   ]
  },
  {
   "cell_type": "code",
   "execution_count": 34,
   "metadata": {},
   "outputs": [],
   "source": [
    "def pdfs(file_path):\n",
    "    \n",
    "    pages = convert_from_path(file_path, 350,poppler_path=poppler_path) \n",
    "\n",
    "    # optional step to save the converted files\n",
    "    # save_img_files_form_pdf(pages)\n",
    "\n",
    "    return pages"
   ]
  },
  {
   "cell_type": "code",
   "execution_count": 62,
   "metadata": {},
   "outputs": [],
   "source": [
    "def bounding_boxes(img):\n",
    "\n",
    "    gray = cv2.cvtColor(np.float32(img), cv2.COLOR_RGB2GRAY)\n",
    "    color = cv2.cvtColor(gray, cv2.COLOR_GRAY2RGB)\n",
    "\n",
    "    d = pytesseract.image_to_data(img, output_type=pytesseract.Output.DICT)\n",
    "    n_boxes = len(d['level'])\n",
    "    for i in range(n_boxes):\n",
    "        (x, y, w, h) = (d['left'][i], d['top'][i], d['width'][i], d['height'][i])\n",
    "        cv2.rectangle(color, (x, y), (x + w, y + h), (0, 255, 0), 2)\n",
    "\n",
    "    return color\n"
   ]
  },
  {
   "cell_type": "code",
   "execution_count": 35,
   "metadata": {},
   "outputs": [],
   "source": [
    "# open pdf file\n",
    "\n",
    "file_path = r\"C:\\Users\\digvi\\Desktop\\ChiStats\\PyTesseract\\PyTessearct Core Config\\data\\Good\\GULF COAST LIMESTONE INC\\4403514751_1.pdf\"\n",
    "pages = pdfs(file_path)"
   ]
  },
  {
   "cell_type": "code",
   "execution_count": 63,
   "metadata": {},
   "outputs": [],
   "source": [
    "# for loop over all pages and display bounding box\n",
    "page_no = 0\n",
    "\n",
    "for page in pages:\n",
    "    color = bounding_boxes(page)\n",
    "\n",
    "    # cv2.imshow(\"Bounding Box\", color)\n",
    "\n",
    "    save_img_bounding_box(color, page_no)\n",
    "    # print(color.shape)\n",
    "    # print(type(color))\n",
    "    page_no += 1\n",
    "\n",
    "# cv2.waitKey(0)\n",
    "# cv2.destroyAllWindows()"
   ]
  },
  {
   "cell_type": "code",
   "execution_count": null,
   "metadata": {},
   "outputs": [],
   "source": []
  }
 ]
}