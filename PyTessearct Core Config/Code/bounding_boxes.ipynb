{
 "metadata": {
  "language_info": {
   "codemirror_mode": {
    "name": "ipython",
    "version": 3
   },
   "file_extension": ".py",
   "mimetype": "text/x-python",
   "name": "python",
   "nbconvert_exporter": "python",
   "pygments_lexer": "ipython3",
   "version": "3.8.3"
  },
  "orig_nbformat": 2,
  "kernelspec": {
   "name": "python383jvsc74a57bd08a49a29282df611f194f04fbf743df9594874419dfbfa30c52a913a1e06f6b3d",
   "display_name": "Python 3.8.3 64-bit (conda)"
  }
 },
 "nbformat": 4,
 "nbformat_minor": 2,
 "cells": [
  {
   "cell_type": "code",
   "execution_count": 10,
   "metadata": {},
   "outputs": [],
   "source": [
    "# bouding box woth opencv"
   ]
  },
  {
   "cell_type": "code",
   "execution_count": 1,
   "metadata": {},
   "outputs": [],
   "source": [
    "from PIL import Image\n",
    "import pytesseract\n",
    "import argparse\n",
    "import cv2\n",
    "import os\n",
    "\n",
    "from pdf2image import convert_from_path"
   ]
  },
  {
   "cell_type": "code",
   "execution_count": 2,
   "metadata": {},
   "outputs": [],
   "source": [
    "pytesseract.pytesseract.tesseract_cmd = r'C:\\Users\\digvi\\AppData\\Local\\Programs\\Tesseract-OCR\\tesseract.exe'\n",
    "\n",
    "poppler_path = r\"C:\\Program Files\\poppler-0.68.0\\bin\""
   ]
  },
  {
   "cell_type": "code",
   "execution_count": 3,
   "metadata": {},
   "outputs": [],
   "source": [
    "pdfs = r\"C:\\Users\\digvi\\Desktop\\ChiStats\\PyTesseract\\PyTessearct Core Config\\data\\Good\\GULF COAST LIMESTONE INC\\4403514751_1.pdf\"\n",
    "\n",
    "pages = convert_from_path(pdfs, 350, poppler_path=poppler_path)"
   ]
  },
  {
   "cell_type": "code",
   "execution_count": 4,
   "metadata": {},
   "outputs": [],
   "source": [
    "i = 1\n",
    "for page in pages:\n",
    "    image_name = \"Page_\" + str(i) + \".jpg\"  \n",
    "    page.save(image_name, \"JPEG\")\n",
    "    i = i+1    "
   ]
  },
  {
   "cell_type": "code",
   "execution_count": 5,
   "metadata": {},
   "outputs": [],
   "source": [
    "def mark_region(image_path):\n",
    "    \n",
    "    im = cv2.imread(image_path)\n",
    "\n",
    "    gray = cv2.cvtColor(im, cv2.COLOR_BGR2GRAY)\n",
    "    blur = cv2.GaussianBlur(gray, (9,9), 0)\n",
    "    thresh = cv2.adaptiveThreshold(blur,255,cv2.ADAPTIVE_THRESH_GAUSSIAN_C, cv2.THRESH_BINARY_INV,11,30)\n",
    "\n",
    "    # Dilate to combine adjacent text contours\n",
    "    kernel = cv2.getStructuringElement(cv2.MORPH_RECT, (9,9))\n",
    "    dilate = cv2.dilate(thresh, kernel, iterations=4)\n",
    "\n",
    "    # Find contours, highlight text areas, and extract ROIs\n",
    "    cnts = cv2.findContours(dilate, cv2.RETR_EXTERNAL, cv2.CHAIN_APPROX_SIMPLE)\n",
    "    cnts = cnts[0] if len(cnts) == 2 else cnts[1]\n",
    "\n",
    "    line_items_coordinates = []\n",
    "    for c in cnts:\n",
    "        area = cv2.contourArea(c)\n",
    "        x,y,w,h = cv2.boundingRect(c)\n",
    "\n",
    "        if y >= 600 and x <= 1000:\n",
    "            if area > 10000:\n",
    "                image = cv2.rectangle(im, (x,y), (2200, y+h), color=(255,0,255), thickness=3)\n",
    "                line_items_coordinates.append([(x,y), (2200, y+h)])\n",
    "\n",
    "        if y >= 2400 and x<= 2000:\n",
    "            image = cv2.rectangle(im, (x,y), (2200, y+h), color=(255,0,255), thickness=3)\n",
    "            line_items_coordinates.append([(x,y), (2200, y+h)])\n",
    "\n",
    "\n",
    "    return image, line_items_coordinates"
   ]
  },
  {
   "cell_type": "code",
   "execution_count": 6,
   "metadata": {},
   "outputs": [],
   "source": [
    "image, line_items_coordinates = mark_region(r\"C:\\Users\\digvi\\Desktop\\ChiStats\\PyTesseract\\PyTessearct Core Config\\Code\\page_1.jpg\")"
   ]
  },
  {
   "cell_type": "code",
   "execution_count": 8,
   "metadata": {},
   "outputs": [
    {
     "output_type": "execute_result",
     "data": {
      "text/plain": [
       "True"
      ]
     },
     "metadata": {},
     "execution_count": 8
    }
   ],
   "source": [
    "cv2.imwrite('bounding_box.jpg', image)"
   ]
  },
  {
   "cell_type": "code",
   "execution_count": 9,
   "metadata": {},
   "outputs": [],
   "source": [
    "# bouding box woth opencv"
   ]
  },
  {
   "cell_type": "code",
   "execution_count": null,
   "metadata": {},
   "outputs": [],
   "source": []
  }
 ]
}