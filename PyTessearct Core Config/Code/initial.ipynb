{
 "metadata": {
  "language_info": {
   "codemirror_mode": {
    "name": "ipython",
    "version": 3
   },
   "file_extension": ".py",
   "mimetype": "text/x-python",
   "name": "python",
   "nbconvert_exporter": "python",
   "pygments_lexer": "ipython3",
   "version": "3.8.3"
  },
  "orig_nbformat": 2,
  "kernelspec": {
   "name": "python383jvsc74a57bd08a49a29282df611f194f04fbf743df9594874419dfbfa30c52a913a1e06f6b3d",
   "display_name": "Python 3.8.3 64-bit (conda)"
  }
 },
 "nbformat": 4,
 "nbformat_minor": 2,
 "cells": [
  {
   "cell_type": "code",
   "execution_count": 6,
   "metadata": {},
   "outputs": [],
   "source": [
    "from PIL import Image\n",
    "import pytesseract\n",
    "import argparse\n",
    "import cv2\n",
    "import os\n",
    "\n",
    "from pdf2image import convert_from_path"
   ]
  },
  {
   "cell_type": "code",
   "execution_count": 14,
   "metadata": {},
   "outputs": [],
   "source": [
    "pytesseract.pytesseract.tesseract_cmd = r'C:\\Users\\digvi\\AppData\\Local\\Programs\\Tesseract-OCR\\tesseract.exe'\n",
    "\n",
    "poppler_path = r\"C:\\Program Files\\poppler-0.68.0\\bin\""
   ]
  },
  {
   "cell_type": "code",
   "execution_count": 12,
   "metadata": {},
   "outputs": [],
   "source": [
    "\n",
    "pdf_file = r'C:\\Users\\digvi\\Desktop\\ChiStats\\PyTesseract\\PyTessearct Core Config\\data\\Good\\GULF COAST LIMESTONE INC\\4403514751_1.pdf'\n",
    "\n"
   ]
  },
  {
   "cell_type": "code",
   "execution_count": 15,
   "metadata": {},
   "outputs": [],
   "source": [
    "pages = convert_from_path(pdf_file, 500, poppler_path=poppler_path)"
   ]
  },
  {
   "cell_type": "code",
   "execution_count": 17,
   "metadata": {},
   "outputs": [],
   "source": [
    "image_counter = 1\n",
    "\n",
    "for page in pages:\n",
    "    filename = \"page_\"+str(image_counter)+\".jpg\"\n",
    "    page.save(filename, 'JPEG')\n",
    "    image_counter = image_counter + 1"
   ]
  },
  {
   "cell_type": "code",
   "execution_count": 19,
   "metadata": {},
   "outputs": [
    {
     "output_type": "stream",
     "name": "stdout",
     "text": [
      "ECL\n\nGulf Coast\n\nLimestone, Inc.\nPO Box 66\nSeabrook, TX 77586\nMain — 281-474-4124\nFax — 281-929-0674\n\nInvoice\nInvoice Number\n611526\n\nInvoice Date\nJan 22, 2019\nPage:\n\n1\n\nSold To: Ship To\n\nHouston Refining LP\nPO Box 3448\n\nLyondell Citgo Refining LP\n12000 Lawndale / Gate 1\n\n \n\n \n\n \n\n \n\n \n\n \n\n \n\n \n\n \n\n \n\n \n\nHouston, TX 77253-3448 KM 536-F\nHouston, TX\nCen3\nCustomer ID Customer PO Payment Terms\nHOUREF 4403514751 Net 30 Days\nSales Order Number Shipping Method Ship Date | Due Date\n175241 R1 1/22/19 | 2/21/19\nQuantity | Item | Description Unit Price Net\n14.90V 3/8\" LIME3/8\" Limestone 47.97 714.75\nTicket # 873701\nAll Purchase Orders should be emailed to: Subtotal 714.75\nsalesPO@qgcli.com Sales Tax\nTotal Invoice Amount 714.75\nos Payment/Credit Appliec\nInvoicing Support: TOTAL 714.75\n\nDiane. Thornton @ gcli.com - 281-474-4124 x 121\nMiranda. Frazier @ gcli.com - 281-474-4124 x 116\n\nA/P Rec'd Invoice 1/24/2019\n\n \n\f\n"
     ]
    }
   ],
   "source": [
    "file_limit = image_counter - 1\n",
    "\n",
    "for i in range(1, file_limit + 1):\n",
    "\n",
    "    filename = \"page_\"+str(i)+\".jpg\"\n",
    "\n",
    "    text = str(((pytesseract.image_to_string(Image.open(filename)))))\n",
    "\n",
    "    print(text)"
   ]
  },
  {
   "cell_type": "code",
   "execution_count": null,
   "metadata": {},
   "outputs": [],
   "source": []
  }
 ]
}