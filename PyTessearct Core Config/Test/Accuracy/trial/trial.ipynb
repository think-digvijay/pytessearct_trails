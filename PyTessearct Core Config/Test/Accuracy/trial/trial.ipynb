{
 "metadata": {
  "language_info": {
   "codemirror_mode": {
    "name": "ipython",
    "version": 3
   },
   "file_extension": ".py",
   "mimetype": "text/x-python",
   "name": "python",
   "nbconvert_exporter": "python",
   "pygments_lexer": "ipython3",
   "version": "3.8.5"
  },
  "orig_nbformat": 2,
  "kernelspec": {
   "name": "python385jvsc74a57bd0669743bf232be53b8b2515fbe5b1bab668e38fb07ccc7644a17325e875d3ee91",
   "display_name": "Python 3.8.5 64-bit"
  }
 },
 "nbformat": 4,
 "nbformat_minor": 2,
 "cells": [
  {
   "cell_type": "code",
   "execution_count": 35,
   "metadata": {},
   "outputs": [],
   "source": [
    "import PyPDF2\n"
   ]
  },
  {
   "cell_type": "code",
   "execution_count": 46,
   "metadata": {},
   "outputs": [],
   "source": [
    "pdfFileObj = open('gst-revenue-collection-march2020.pdf', 'rb')"
   ]
  },
  {
   "cell_type": "code",
   "execution_count": 47,
   "metadata": {},
   "outputs": [],
   "source": [
    "pdfReader = PyPDF2.PdfFileReader(pdfFileObj)\n"
   ]
  },
  {
   "cell_type": "code",
   "execution_count": 48,
   "metadata": {},
   "outputs": [
    {
     "output_type": "stream",
     "name": "stdout",
     "text": [
      "3\n"
     ]
    }
   ],
   "source": [
    "print(pdfReader.numPages)"
   ]
  },
  {
   "cell_type": "code",
   "execution_count": 49,
   "metadata": {},
   "outputs": [],
   "source": [
    "pageObj = pdfReader.getPage(0)"
   ]
  },
  {
   "cell_type": "code",
   "execution_count": 50,
   "metadata": {},
   "outputs": [
    {
     "output_type": "execute_result",
     "data": {
      "text/plain": [
       "{'/Type': '/Page',\n",
       " '/MediaBox': [0, 0, 595, 842],\n",
       " '/Resources': {'/Font': {'/F1': {'/Type': '/Font',\n",
       "    '/Subtype': '/Type1',\n",
       "    '/BaseFont': '/Helvetica',\n",
       "    '/Encoding': '/WinAnsiEncoding'},\n",
       "   '/F2': {'/Type': '/Font',\n",
       "    '/Subtype': '/Type1',\n",
       "    '/BaseFont': '/Helvetica-Bold',\n",
       "    '/Encoding': '/WinAnsiEncoding'}}},\n",
       " '/Contents': {'/Filter': '/FlateDecode'},\n",
       " '/Parent': {'/Type': '/Pages',\n",
       "  '/Count': 3,\n",
       "  '/Kids': [IndirectObject(5, 0),\n",
       "   IndirectObject(9, 0),\n",
       "   IndirectObject(11, 0)]}}"
      ]
     },
     "metadata": {},
     "execution_count": 50
    }
   ],
   "source": [
    "pageObj"
   ]
  },
  {
   "cell_type": "code",
   "execution_count": 51,
   "metadata": {},
   "outputs": [
    {
     "output_type": "execute_result",
     "data": {
      "text/plain": [
       "['Ministry of FinanceGST Revenue Collection for March',\n",
       " ' 2020Rs. 97',\n",
       " '597 Crore Ofgross GST revenue collectedPosted On: 01 APR 2020 5:05PM by PIB DelhiThe gross GST revenue collected in the month of March',\n",
       " ' 2020 is Rs. 97',\n",
       " '597crore of which CGSTis Rs. 19',\n",
       " '183 crore',\n",
       " ' SGST is Rs. 25',\n",
       " '601 crore',\n",
       " ' IGST is Rs. 44',\n",
       " '508 crore (including Rs. 18',\n",
       " '056crore collected on imports) and Cess is Rs. 8',\n",
       " '306 crore (including Rs. 841 crore collected onimports). The total number of GSTR-3B Returns filed for the month of February up to 31st March',\n",
       " '2020 is 76.5 lakh.The government has settled Rs. 19',\n",
       " '718 crore to CGST and Rs. 14',\n",
       " '915 crore to SGST from IGSTas regular settlement. Inaddition',\n",
       " 'Centre has also apportioned unsettled balance IGST of Rs. 6000crores on ad-hoc basis in the ratio of 50:50 between centre and States/UTs.The total revenueearned by Central Government and the State Governments after regular settlement in the month ofMarch',\n",
       " '2020 is Rs. 41',\n",
       " '901 crore for CGST and Rs. 43',\n",
       " '516 crore for the SGST.The GST revenues during the month of March',\n",
       " ' 2020 from domestic transactions has shownanegative growth of 4% over the revenue during the month of March',\n",
       " ' 2019. Taking into account theGST collected from import of goods',\n",
       " ' the total revenue during March',\n",
       " ' 2020has also decreasedby 8%in comparison to the revenue during March',\n",
       " ' 2019. During this month',\n",
       " ' the GST on import of goodshas shown a negative growth of (-) 23% as compared to March',\n",
       " ' 2019.For the full financial year',\n",
       " ' 2019-20',\n",
       " ' the GST for domestic transaction has shown a growth rate of8% over the revenues during last year. During the year',\n",
       " ' GST from import on goods fell down by 8%as compared to last year. Overall',\n",
       " ' gross GST revenues grew at 4% over the last year™s GSTrevenue.The chart shows trends in monthly gross GST revenues during the current year. The tableshows the state-wise figures of GST collected in each State during the month of March',\n",
       " ' 2020as compared to March',\n",
       " ' 2019 and for the full year.']"
      ]
     },
     "metadata": {},
     "execution_count": 51
    }
   ],
   "source": [
    "text=(pageObj.extractText())\n",
    "text=text.split(\",\")\n",
    "text"
   ]
  },
  {
   "cell_type": "code",
   "execution_count": 52,
   "metadata": {},
   "outputs": [],
   "source": [
    "search_keywords=['GST','Ministry ','%','Revenue ','Year','Growth']\n"
   ]
  },
  {
   "cell_type": "code",
   "execution_count": 53,
   "metadata": {},
   "outputs": [
    {
     "output_type": "stream",
     "name": "stdout",
     "text": [
      "3 key word(s) in sentence: GST, Ministry , Revenue \nMinistry of FinanceGST Revenue Collection for March\n\n0 key word(s) in sentence: \n 2020Rs. 97\n\n1 key word(s) in sentence: GST\n597 Crore Ofgross GST revenue collectedPosted On: 01 APR 2020 5:05PM by PIB DelhiThe gross GST revenue collected in the month of March\n\n0 key word(s) in sentence: \n 2020 is Rs. 97\n\n1 key word(s) in sentence: GST\n597crore of which CGSTis Rs. 19\n\n0 key word(s) in sentence: \n183 crore\n\n1 key word(s) in sentence: GST\n SGST is Rs. 25\n\n0 key word(s) in sentence: \n601 crore\n\n1 key word(s) in sentence: GST\n IGST is Rs. 44\n\n0 key word(s) in sentence: \n508 crore (including Rs. 18\n\n0 key word(s) in sentence: \n056crore collected on imports) and Cess is Rs. 8\n\n1 key word(s) in sentence: GST\n306 crore (including Rs. 841 crore collected onimports). The total number of GSTR-3B Returns filed for the month of February up to 31st March\n\n0 key word(s) in sentence: \n2020 is 76.5 lakh.The government has settled Rs. 19\n\n1 key word(s) in sentence: GST\n718 crore to CGST and Rs. 14\n\n1 key word(s) in sentence: GST\n915 crore to SGST from IGSTas regular settlement. Inaddition\n\n1 key word(s) in sentence: GST\nCentre has also apportioned unsettled balance IGST of Rs. 6000crores on ad-hoc basis in the ratio of 50:50 between centre and States/UTs.The total revenueearned by Central Government and the State Governments after regular settlement in the month ofMarch\n\n0 key word(s) in sentence: \n2020 is Rs. 41\n\n1 key word(s) in sentence: GST\n901 crore for CGST and Rs. 43\n\n1 key word(s) in sentence: GST\n516 crore for the SGST.The GST revenues during the month of March\n\n1 key word(s) in sentence: %\n 2020 from domestic transactions has shownanegative growth of 4% over the revenue during the month of March\n\n1 key word(s) in sentence: GST\n 2019. Taking into account theGST collected from import of goods\n\n0 key word(s) in sentence: \n the total revenue during March\n\n1 key word(s) in sentence: %\n 2020has also decreasedby 8%in comparison to the revenue during March\n\n0 key word(s) in sentence: \n 2019. During this month\n\n2 key word(s) in sentence: GST, %\n the GST on import of goodshas shown a negative growth of (-) 23% as compared to March\n\n0 key word(s) in sentence: \n 2019.For the full financial year\n\n0 key word(s) in sentence: \n 2019-20\n\n2 key word(s) in sentence: GST, %\n the GST for domestic transaction has shown a growth rate of8% over the revenues during last year. During the year\n\n2 key word(s) in sentence: GST, %\n GST from import on goods fell down by 8%as compared to last year. Overall\n\n2 key word(s) in sentence: GST, %\n gross GST revenues grew at 4% over the last year™s GSTrevenue.The chart shows trends in monthly gross GST revenues during the current year. The tableshows the state-wise figures of GST collected in each State during the month of March\n\n0 key word(s) in sentence: \n 2020as compared to March\n\n0 key word(s) in sentence: \n 2019 and for the full year.\n\n"
     ]
    }
   ],
   "source": [
    "for sentence in text:\n",
    "    lst = []\n",
    "    for word in search_keywords:\n",
    "        if word in sentence:\n",
    "            lst.append(word)\n",
    "    print('{0} key word(s) in sentence: {1}'.format(len(lst), ', '.join(lst)))\n",
    "    print(sentence + \"\\n\")"
   ]
  },
  {
   "cell_type": "code",
   "execution_count": null,
   "metadata": {},
   "outputs": [],
   "source": []
  }
 ]
}