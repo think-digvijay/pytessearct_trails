{
 "metadata": {
  "language_info": {
   "codemirror_mode": {
    "name": "ipython",
    "version": 3
   },
   "file_extension": ".py",
   "mimetype": "text/x-python",
   "name": "python",
   "nbconvert_exporter": "python",
   "pygments_lexer": "ipython3",
   "version": "3.8.5"
  },
  "orig_nbformat": 2,
  "kernelspec": {
   "name": "python385jvsc74a57bd0669743bf232be53b8b2515fbe5b1bab668e38fb07ccc7644a17325e875d3ee91",
   "display_name": "Python 3.8.5 64-bit"
  }
 },
 "nbformat": 4,
 "nbformat_minor": 2,
 "cells": [
  {
   "cell_type": "code",
   "execution_count": 1,
   "metadata": {},
   "outputs": [],
   "source": [
    "import PyPDF2\n",
    "import re"
   ]
  },
  {
   "cell_type": "code",
   "execution_count": 2,
   "metadata": {},
   "outputs": [],
   "source": [
    "object = PyPDF2.PdfFileReader(r\"C:\\Users\\digvi\\Desktop\\ChiStats\\PyTesseract\\PyTessearct Core Config\\Test\\Test_Data\\PRAXAIR DISTRIBUTION INC\\4403780798\\4403780798.pdf\")"
   ]
  },
  {
   "cell_type": "code",
   "execution_count": 3,
   "metadata": {},
   "outputs": [],
   "source": [
    "NumPages = object.getNumPages()"
   ]
  },
  {
   "cell_type": "code",
   "execution_count": 10,
   "metadata": {},
   "outputs": [],
   "source": [
    "String = \"productiv\""
   ]
  },
  {
   "cell_type": "code",
   "execution_count": 17,
   "metadata": {},
   "outputs": [
    {
     "output_type": "stream",
     "name": "stdout",
     "text": [
      "this is page 0\nNone\n"
     ]
    }
   ],
   "source": [
    "for i in range(0, NumPages):\n",
    "    PageObj = object.getPage(i)\n",
    "    print(\"this is page \" + str(i)) \n",
    "    Text = PageObj.extractText() \n",
    "    # print(Text)\n",
    "    ResSearch = re.search(String, Text)\n",
    "    print(ResSearch)"
   ]
  },
  {
   "cell_type": "code",
   "execution_count": 22,
   "metadata": {},
   "outputs": [],
   "source": [
    "pageobj = object.getPage(0)"
   ]
  },
  {
   "cell_type": "code",
   "execution_count": 26,
   "metadata": {},
   "outputs": [
    {
     "output_type": "execute_result",
     "data": {
      "text/plain": [
       "'\\n\\n\\n\\n\\n\\n\\n\\n\\n\\n\\n\\n\\n\\n\\n\\n\\n\\n\\n\\n\\n\\n\\n$\\n\\n\\n˝˚\"\\n&\\n\\'(\\n˛!˛˜\\n#\\n˛\\n\\n˝˝!˚\"˛\\n!\\n\\n!ˇ\\n˛!˛˜\\n\\n˝˝˚\"˜\\n\\n˝˜\\n˚\"˜˝˚!!!˜˛\\n\\n\\n\\n\\n\\n\\n\\n\\n\\n\\n\\n\\n\\n\\n\\n$\\n\\n\\n\\n\\n˝˝˜\\n*+,*\\n-(\\'*\\'.*/(01+\\'\\n(/2(30%-4(%5*\\n.+,5.+-6*7\\n+-7-(8%-5&37*,1(0*\\n%-/(01+\\'%(-\\n\\'(.*&92(31+-+6*\\n2(30+:+%0\\n+55(3-\\'$2(38%,.\\'(0*5*%4*\\n\\'.*7(531*-\\'\\n*&*5\\'0(-%5+&&2\\n%-\\'.*/3\\'30\\n9&*+,*5(-\\'+5\\'\\n3,$2(30;%&&\\n(-&%-*\\n+\\'888$90+:+%07%0*5\\'$5(1 ;%&&9+2\\n(05+&&˜˜ˇ!<<ˇ\\n\\n\\n\\n\\n˝\\n˝\\n\\n\\n\\n\\n\\n,\\n˘$-\\n\\n\\n.$/\\n\\n\\n\\n\\n\\n\\n\\n\\n\\n$\\n\\n\\n\\n\\n\\n\\n\\n˜01\\n\\n\\n(˛+\\n\\n\\n\" \"!#\"<\\n\\n\\n\\n)\\n??\\n#\"<\\n#\"<\\n\\n\\n˜˜\\n<$\"\"\"˚$˜˜˜˜\\n!˚\"$!˜\\n\"˚$˜˜)\\n\\n\\n\\n\\n\\n\\n\\n\\n\\n\\n\\n\\n)\\n\\n\\n\\n\\n)\\n˙=\\n)\\n$\\n\\n\\n\\n\\n\\n\\n=\\n\\n\\n˙\\n\\n˙\\n˚B\\n\\n\\n˘\\n\\nˆ\\n\\n\\n\\n\\n˙\\n\\n$\\n\\n\\n\\n\\n!˜\\n˜$˜˜7\\n\\n\\n\\n\\n\\n\\n\\n\\n\\n\\n)\\n\\n\\n\\n\\n\\n\\n\\n˙\\n)\\n=\\n\\n)\\n$\\n\\n\\n˙\\n\\n\\n$\\n˙\\n\\n\\n\\n\\n\\n)\\n\\n\\n˙\\n\\n\\n\\n\\n\\n\\n\\n)\\n\\n\\n\\n\\n=\\n\\n\\n\\n\\n\\n\\n\\n=$\\n\\n\\n\\n)\\n\\n\\n\\n\\n˙\\n\\n\\n\\n\\n\\n\\n\\n$\\n\\n\\n\\n\\n$\\n˙\\n)\\n\\n\\n\\n\\n\\n\\n\\n\\n˙\\n\\n\\n\\n\\n\\nD7%5*\\n'"
      ]
     },
     "metadata": {},
     "execution_count": 26
    }
   ],
   "source": [
    "text = (pageobj.extractText())\n",
    "# text=text.split(\",\")\n",
    "text"
   ]
  },
  {
   "cell_type": "code",
   "execution_count": null,
   "metadata": {},
   "outputs": [],
   "source": []
  }
 ]
}