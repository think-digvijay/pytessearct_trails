{
 "metadata": {
  "language_info": {
   "codemirror_mode": {
    "name": "ipython",
    "version": 3
   },
   "file_extension": ".py",
   "mimetype": "text/x-python",
   "name": "python",
   "nbconvert_exporter": "python",
   "pygments_lexer": "ipython3",
   "version": "3.8.5"
  },
  "orig_nbformat": 2,
  "kernelspec": {
   "name": "python385jvsc74a57bd0669743bf232be53b8b2515fbe5b1bab668e38fb07ccc7644a17325e875d3ee91",
   "display_name": "Python 3.8.5 64-bit"
  }
 },
 "nbformat": 4,
 "nbformat_minor": 2,
 "cells": [
  {
   "cell_type": "code",
   "execution_count": 1,
   "metadata": {},
   "outputs": [],
   "source": [
    "import camelot\n",
    "import pandas as pd\n",
    "import os"
   ]
  },
  {
   "cell_type": "code",
   "execution_count": null,
   "metadata": {},
   "outputs": [],
   "source": [
    "file_loc = r'C:\\Users\\digvi\\Desktop\\ChiStats\\PyTesseract\\PyTessearct Core Config\\Test\\Camelot\\Final\\Data\\DRAGO SUPPLY CO\\4403774992\\4403774992.pdf'"
   ]
  },
  {
   "cell_type": "code",
   "execution_count": 2,
   "metadata": {},
   "outputs": [],
   "source": [
    "def read_pdf_normal(file_loc):\n",
    "    tables = camelot.read_pdf(filepath=file_loc)\n",
    "\n",
    "    return tables"
   ]
  },
  {
   "cell_type": "code",
   "execution_count": 3,
   "metadata": {},
   "outputs": [],
   "source": [
    "def save_contour(tables, file_name, save_loc):\n",
    "    # plot on figure\n",
    "    contour_plots = camelot.plot(tables[0], kind='contour')\n",
    "\n",
    "    # save figure\n",
    "    s1 = file_name + '_contour.jpg'\n",
    "    s2 = save_loc + '\\\\' + s1\n",
    "\n",
    "    # print location\n",
    "    print('contour plot file saving at: ', s2)\n",
    "\n",
    "    contour_plots.savefig(s2, dpi=300)\n"
   ]
  },
  {
   "cell_type": "code",
   "execution_count": 4,
   "metadata": {},
   "outputs": [],
   "source": [
    "def save_line_plot(tables, file_name, save_loc):\n",
    "    # plot on figure\n",
    "    line_plots = camelot.plot(tables[0], kind='line')\n",
    "\n",
    "    # save figure\n",
    "    s1 = file_name + '_lines.jpg'\n",
    "    s2 = save_loc + '\\\\' + s1\n",
    "\n",
    "    # print location\n",
    "    print('Line plot file saving at: ', s2)\n",
    "\n",
    "    line_plots.savefig(s2, dpi=300)"
   ]
  },
  {
   "cell_type": "code",
   "execution_count": 5,
   "metadata": {},
   "outputs": [],
   "source": [
    "def save_csv(file_name, save_loc):\n",
    "    tables = camelot.read_pdf(filepath=file_loc, flavor='stream', pages='all')\n",
    "\n",
    "    save_at = save_loc + '\\\\' +  file_name + '.csv'\n",
    "\n",
    "    tables.export(save_at, f='csv', compress = True)"
   ]
  },
  {
   "cell_type": "code",
   "execution_count": 6,
   "metadata": {},
   "outputs": [],
   "source": [
    "def save_bouding_box(file_name, save_loc, file_loc):\n",
    "    tables = camelot.read_pdf(filepath=file_loc, pages='all')\n",
    "\n",
    "    all_bbox = []\n",
    "    for table in tables:\n",
    "        temp = table._bbox\n",
    "        temp = list(temp)\n",
    "        temp[1], temp[3] = temp[3], temp[1] \n",
    "        all_bbox.append(temp)\n",
    "        \n",
    "    a = ()\n",
    "    \n",
    "    "
   ]
  },
  {
   "cell_type": "code",
   "execution_count": null,
   "metadata": {},
   "outputs": [],
   "source": [
    "def bounding_box(file_name, save_loc, file_loc):\n",
    "    tables = camelot.read_pdf(filepath=file_loc)\n",
    "\n",
    "    all_bbox = []\n",
    "    for table in tables:\n",
    "        temp = table._bbox\n",
    "        temp = list(temp)\n",
    "        temp[1], temp[3] = temp[3], temp[1] \n",
    "        all_bbox.append(temp)\n",
    "    \n",
    "    areas = []\n",
    "    for i in range(0, len(all_bbox)):\n",
    "        x_len = all_bbox[i][2] - all_bbox[i][0]\n",
    "        y_len = all_bbox[i][1] - all_bbox[i][3]\n",
    "\n",
    "        area = x_len * y_len\n",
    "        areas.append(area)\n",
    "        print(area)\n",
    "\n",
    "    max_area = max(areas)\n",
    "    max_index = areas.index(max_area)\n",
    "\n",
    "    x1 = tables[max_index]._bbox[0]\n",
    "    y1 = tables[max_index]._bbox[3]\n",
    "    x2 = tables[max_index]._bbox[2]\n",
    "    y2 = tables[max_index]._bbox[1]\n",
    "    \n",
    "    table_single = camelot.read_pdf(filepath=file_loc, flavor='stream', table_areas = ['{}, {}, {}, {}'.format(x1, y1, x2, y2)])\n",
    "\n",
    "    save_at = save_loc + '\\\\' +  file_name + '.csv'\n",
    "    table_single[0].to_csv(save_at)"
   ]
  },
  {
   "cell_type": "code",
   "execution_count": null,
   "metadata": {},
   "outputs": [],
   "source": [
    "directory = 'Data'\n",
    "detected_dirs = []\n",
    "exception_dirs = []\n",
    "\n",
    "for root, subdirectories, files in os.walk(directory):\n",
    "    for subdirectory in subdirectories:\n",
    "        os.path.join(root, subdirectory)\n",
    "        #print(root)\n",
    "    for file in files:\n",
    "        if(file.endswith('.pdf')):\n",
    "            file_loc = os.path.join(root, file)\n",
    "            file_name = os.path.splitext(file)[0]\n",
    "            file_save_loc = os.path.dirname(file_loc)\n",
    "            \n",
    "            # call table function\n",
    "            tables = read_pdf_normal(file_loc)\n",
    "            print(\"-----------------------------------\")\n",
    "            print(\"Now Running: \", file_loc)\n",
    "            \n",
    "\n",
    "            if(len(tables) > 0):\n",
    "                # call contour function\n",
    "                save_contour(tables, file_name, file_save_loc)\n",
    "                # # call line plot function\n",
    "                save_line_plot(tables, file_name, file_save_loc)\n",
    "\n",
    "                # # call save csv function\n",
    "                save_csv(file_name, file_save_loc)\n",
    "                detected_dirs.append(file_loc)\n",
    "\n",
    "                bounding_box(file_name, file_save_loc, file_loc)\n",
    "\n",
    "                print(\"-----------------------------------\")\n",
    "            else:\n",
    "                print('Not able to detect table in: ', file_loc)\n",
    "                exception_dirs.append(file_loc)\n",
    "                print(\"-----------------------------------\")"
   ]
  },
  {
   "cell_type": "code",
   "execution_count": null,
   "metadata": {},
   "outputs": [],
   "source": []
  }
 ]
}