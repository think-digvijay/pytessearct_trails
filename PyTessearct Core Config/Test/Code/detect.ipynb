{
 "metadata": {
  "language_info": {
   "codemirror_mode": {
    "name": "ipython",
    "version": 3
   },
   "file_extension": ".py",
   "mimetype": "text/x-python",
   "name": "python",
   "nbconvert_exporter": "python",
   "pygments_lexer": "ipython3",
   "version": "3.8.5"
  },
  "orig_nbformat": 2,
  "kernelspec": {
   "name": "python385jvsc74a57bd0669743bf232be53b8b2515fbe5b1bab668e38fb07ccc7644a17325e875d3ee91",
   "display_name": "Python 3.8.5 64-bit"
  }
 },
 "nbformat": 4,
 "nbformat_minor": 2,
 "cells": [
  {
   "cell_type": "code",
   "execution_count": 1,
   "metadata": {},
   "outputs": [],
   "source": [
    "from PIL import Image\n",
    "import numpy as np \n",
    "import pytesseract\n",
    "import argparse\n",
    "import cv2\n",
    "import os\n"
   ]
  },
  {
   "cell_type": "code",
   "execution_count": 2,
   "metadata": {},
   "outputs": [],
   "source": [
    "pytesseract.pytesseract.tesseract_cmd = r'C:\\Users\\digvi\\AppData\\Local\\Programs\\Tesseract-OCR\\tesseract.exe'"
   ]
  },
  {
   "cell_type": "code",
   "execution_count": 3,
   "metadata": {},
   "outputs": [],
   "source": [
    "file_path = r'..\\Test_Data\\GULF COAST LIMESTONE INC\\4403781071\\GULF COAST LIMESTONE INC_4403781071_c_0.jpg'"
   ]
  },
  {
   "cell_type": "code",
   "execution_count": 4,
   "metadata": {},
   "outputs": [],
   "source": [
    "image = cv2.imread(file_path)\n",
    "kernel_vertical = cv2.getStructuringElement(cv2.MORPH_RECT, (1,50))\n",
    "temp1 = 255 - cv2.morphologyEx(image, cv2.MORPH_CLOSE, kernel_vertical)\n",
    "horizontal_kernel = cv2.getStructuringElement(cv2.MORPH_RECT, (50,1))\n",
    "temp2 = 255 - cv2.morphologyEx(image, cv2.MORPH_CLOSE, horizontal_kernel)\n",
    "temp3 = cv2.add(temp1, temp2)\n",
    "result = cv2.add(temp3, image)"
   ]
  },
  {
   "cell_type": "code",
   "execution_count": 5,
   "metadata": {},
   "outputs": [],
   "source": [
    "cv2.imshow('preprocessed', result)\n",
    "cv2.waitKey(0)\n",
    "cv2.destroyAllWindows()"
   ]
  },
  {
   "cell_type": "code",
   "execution_count": 7,
   "metadata": {},
   "outputs": [
    {
     "output_type": "stream",
     "name": "stdout",
     "text": [
      "50.65V 2.0 C/S Si2.0 CEMENT STABILIZED SAND 35.89 1,817.83\nTicket # 943389, 943390,\n943391\n\n12/12 emailed copy inquiry\n\n1/4/2020 emailed Inquiry\nand Jamie Sparks\n\n1/7 Unable to locate the\ninvoice in the system.\nPlease provide separate\ncopy of invoice for\n\nprocessing.\n\f\n"
     ]
    }
   ],
   "source": [
    "text_PO = pytesseract.image_to_string(result, lang='eng', config='--psm 1 --oem 3')\n",
    "print(text_PO)"
   ]
  },
  {
   "cell_type": "code",
   "execution_count": 9,
   "metadata": {},
   "outputs": [],
   "source": [
    "output_file = 'output.txt'\n",
    "output = open(output_file, 'w')\n",
    "output.write(text_PO)\n",
    "output.close()"
   ]
  },
  {
   "cell_type": "code",
   "execution_count": null,
   "metadata": {},
   "outputs": [],
   "source": []
  }
 ]
}