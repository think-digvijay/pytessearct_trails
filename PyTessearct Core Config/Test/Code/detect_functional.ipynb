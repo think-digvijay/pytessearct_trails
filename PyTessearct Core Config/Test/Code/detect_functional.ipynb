{
 "metadata": {
  "language_info": {
   "codemirror_mode": {
    "name": "ipython",
    "version": 3
   },
   "file_extension": ".py",
   "mimetype": "text/x-python",
   "name": "python",
   "nbconvert_exporter": "python",
   "pygments_lexer": "ipython3",
   "version": "3.8.5"
  },
  "orig_nbformat": 2,
  "kernelspec": {
   "name": "python385jvsc74a57bd0669743bf232be53b8b2515fbe5b1bab668e38fb07ccc7644a17325e875d3ee91",
   "display_name": "Python 3.8.5 64-bit"
  }
 },
 "nbformat": 4,
 "nbformat_minor": 2,
 "cells": [
  {
   "cell_type": "code",
   "execution_count": 1,
   "metadata": {},
   "outputs": [],
   "source": [
    "from PIL import Image\n",
    "import numpy as np \n",
    "import pytesseract\n",
    "import argparse\n",
    "import cv2\n",
    "import os"
   ]
  },
  {
   "cell_type": "code",
   "execution_count": 2,
   "metadata": {},
   "outputs": [],
   "source": [
    "pytesseract.pytesseract.tesseract_cmd = r'C:\\Users\\digvi\\AppData\\Local\\Programs\\Tesseract-OCR\\tesseract.exe'"
   ]
  },
  {
   "cell_type": "code",
   "execution_count": 3,
   "metadata": {},
   "outputs": [],
   "source": [
    "def preprocessing(image):\n",
    "    kernel_vertical = cv2.getStructuringElement(cv2.MORPH_RECT, (1,50))\n",
    "    temp1 = 255 - cv2.morphologyEx(image, cv2.MORPH_CLOSE, kernel_vertical)\n",
    "    horizontal_kernel = cv2.getStructuringElement(cv2.MORPH_RECT, (50,1))\n",
    "    temp2 = 255 - cv2.morphologyEx(image, cv2.MORPH_CLOSE, horizontal_kernel)\n",
    "    temp3 = cv2.add(temp1, temp2)\n",
    "    result = cv2.add(temp3, image)\n",
    "\n",
    "    return result"
   ]
  },
  {
   "cell_type": "code",
   "execution_count": 4,
   "metadata": {},
   "outputs": [],
   "source": [
    "def show_image(image):\n",
    "    cv2.imshow('Image', image)\n",
    "    cv2.waitKey(0)\n",
    "    cv2.destroyAllWindows()"
   ]
  },
  {
   "cell_type": "code",
   "execution_count": 22,
   "metadata": {},
   "outputs": [],
   "source": [
    "def img_to_text(image):\n",
    "    text = pytesseract.image_to_string(image, lang='eng', config='--psm 1 --oem 3')\n",
    "    # print(text)\n",
    "\n",
    "    return text"
   ]
  },
  {
   "cell_type": "code",
   "execution_count": 6,
   "metadata": {},
   "outputs": [],
   "source": [
    "def save_as_txt(text, op_file_name, location):\n",
    "    extension = '.txt'\n",
    "    output_file = location + op_file_name + extension\n",
    "    output = open(output_file, 'w')\n",
    "    output.write(text)\n",
    "    output.close()\n",
    "\n",
    "    print(\"File Path: \", output_file)"
   ]
  },
  {
   "cell_type": "code",
   "execution_count": 25,
   "metadata": {},
   "outputs": [
    {
     "output_type": "stream",
     "name": "stdout",
     "text": [
      "GULF COAST LIMESTONE INC_4403781071_c_0\n",
      "File Path:  ../Annotation/GULF COAST LIMESTONE INC_4403781071_c_0.txt\n",
      "GULF COAST LIMESTONE INC_4403781071_t_0\n",
      "File Path:  ../Annotation/GULF COAST LIMESTONE INC_4403781071_t_0.txt\n",
      "GULF COAST LIMESTONE INC_4403809546_c_0\n",
      "File Path:  ../Annotation/GULF COAST LIMESTONE INC_4403809546_c_0.txt\n",
      "GULF COAST LIMESTONE INC_4403809546_t_0\n",
      "File Path:  ../Annotation/GULF COAST LIMESTONE INC_4403809546_t_0.txt\n",
      "MRC Global_4403818197_c_0\n",
      "File Path:  ../Annotation/MRC Global_4403818197_c_0.txt\n",
      "MRC Global_4403818197_c_1\n",
      "File Path:  ../Annotation/MRC Global_4403818197_c_1.txt\n",
      "MRC Global_4403818197_t_0\n",
      "File Path:  ../Annotation/MRC Global_4403818197_t_0.txt\n",
      "MRC Global_4403818197_t_1\n",
      "File Path:  ../Annotation/MRC Global_4403818197_t_1.txt\n",
      "PRAXAIR DISTRIBUTION INC_4403780798_c_0\n",
      "File Path:  ../Annotation/PRAXAIR DISTRIBUTION INC_4403780798_c_0.txt\n",
      "PRAXAIR DISTRIBUTION INC_4403780798_t_0\n",
      "File Path:  ../Annotation/PRAXAIR DISTRIBUTION INC_4403780798_t_0.txt\n",
      "PRAXAIR DISTRIBUTION INC_4403804905_c_0\n",
      "File Path:  ../Annotation/PRAXAIR DISTRIBUTION INC_4403804905_c_0.txt\n",
      "PRAXAIR DISTRIBUTION INC_4403804905_t_0\n",
      "File Path:  ../Annotation/PRAXAIR DISTRIBUTION INC_4403804905_t_0.txt\n",
      "ROSEMOUNT INC_4403789930_c_0\n",
      "File Path:  ../Annotation/ROSEMOUNT INC_4403789930_c_0.txt\n",
      "ROSEMOUNT INC_4403789930_t_0\n",
      "File Path:  ../Annotation/ROSEMOUNT INC_4403789930_t_0.txt\n",
      "ROSEMOUNT INC_4403819815_c_0\n",
      "File Path:  ../Annotation/ROSEMOUNT INC_4403819815_c_0.txt\n",
      "ROSEMOUNT INC_4403819815_t_0\n",
      "File Path:  ../Annotation/ROSEMOUNT INC_4403819815_t_0.txt\n"
     ]
    }
   ],
   "source": [
    "directory = '../Test_Data'\n",
    "\n",
    "save_dir = '../Annotation/'\n",
    "\n",
    "for root, subdirectories, files in os.walk(directory):\n",
    "    for subdirectory in subdirectories:\n",
    "        os.path.join(root, subdirectory)\n",
    "        # print(root)\n",
    "    for file in files:\n",
    "        if(file.endswith('.jpg')):\n",
    "            file_loc = os.path.join(root, file)\n",
    "            file_name = os.path.splitext(file)[0]\n",
    "            print(file_name)\n",
    "            # print(file_loc)\n",
    "\n",
    "            # open file\n",
    "            image = cv2.imread(file_loc)\n",
    "\n",
    "            # send file for preprocessing\n",
    "            pre_img = preprocessing(image)\n",
    "\n",
    "            # convert image to text\n",
    "            text = img_to_text(pre_img)\n",
    "\n",
    "            # save text to text file\n",
    "            save_as_txt(text, file_name, save_dir)\n"
   ]
  },
  {
   "cell_type": "code",
   "execution_count": null,
   "metadata": {},
   "outputs": [],
   "source": []
  }
 ]
}